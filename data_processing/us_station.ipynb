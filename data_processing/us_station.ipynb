{
 "cells": [
  {
   "cell_type": "code",
   "id": "initial_id",
   "metadata": {
    "collapsed": true,
    "ExecuteTime": {
     "end_time": "2025-03-26T09:26:46.766924Z",
     "start_time": "2025-03-26T09:26:44.467603Z"
    }
   },
   "source": "import pandas as pd",
   "outputs": [],
   "execution_count": 1
  },
  {
   "metadata": {},
   "cell_type": "code",
   "outputs": [],
   "execution_count": null,
   "source": "",
   "id": "867f1be30edf0b31"
  },
  {
   "metadata": {
    "ExecuteTime": {
     "end_time": "2025-03-26T09:27:10.038866Z",
     "start_time": "2025-03-26T09:27:09.192332Z"
    }
   },
   "cell_type": "code",
   "source": "df = pd.read_excel('../data_source/地铁站.xlsx')",
   "id": "2daa10ff4fcc67ee",
   "outputs": [],
   "execution_count": 2
  },
  {
   "metadata": {
    "ExecuteTime": {
     "end_time": "2025-03-26T09:27:18.398972Z",
     "start_time": "2025-03-26T09:27:18.380203Z"
    }
   },
   "cell_type": "code",
   "source": "",
   "id": "2fd72fd3145a7ec4",
   "outputs": [
    {
     "data": {
      "text/plain": [
       "                             城市                          线路          站点数  \\\n",
       "0             纽约(New York City)                        1 号线           36   \n",
       "1             纽约(New York City)                        2 号线           49   \n",
       "2             纽约(New York City)                        3 号线           34   \n",
       "3             纽约(New York City)                        4 号线           54   \n",
       "4             纽约(New York City)                        5 号线           36   \n",
       "..                          ...                         ...          ...   \n",
       "70                       新泽西/纽约  Hoboken–World Trade Center            5   \n",
       "71                       新泽西/纽约         Hoboken–33rd Street            6   \n",
       "72                       新泽西/纽约  Journal Square–33rd Street            7   \n",
       "73  圣胡安 (San Juan, Puerto Rico)                          单线           16   \n",
       "74               檀香山 (Honolulu)            单线 (Phase 1 & 2)  19 (已开通及规划)   \n",
       "\n",
       "                                                 站点列表  \\\n",
       "0   Van Cortlandt Park-242 St, 238 St, 231 St, 225...   \n",
       "1   Wakefield-241 St, Nereid Av, 233 St, 225 St, 2...   \n",
       "2   Harlem-148 St, 145 St, 135 St, 125 St, 116 St,...   \n",
       "3   Woodlawn, Mosholu Pkwy, Bedford Park Blvd-Lehm...   \n",
       "4   Eastchester-Dyre Av, Baychester Av, Gun Hill R...   \n",
       "..                                                ...   \n",
       "70  Hoboken Terminal, Newport, Exchange Place, Gro...   \n",
       "71  Hoboken Terminal, Newport, Christopher Street,...   \n",
       "72  Journal Square, Grove Street, Newport, Christo...   \n",
       "73  Sagrado Corazón, Hato Rey, Roosevelt, Domenech...   \n",
       "74  Kualakaʻi (East Kapolei), Keoneʻae (UH West Oʻ...   \n",
       "\n",
       "                            地铁名称                          Unnamed: 5  \n",
       "0   纽约市地铁 (New York City Subway)                                 NaN  \n",
       "1   纽约市地铁 (New York City Subway)                                 NaN  \n",
       "2   纽约市地铁 (New York City Subway)                                 NaN  \n",
       "3   纽约市地铁 (New York City Subway)                                 NaN  \n",
       "4   纽约市地铁 (New York City Subway)                                 NaN  \n",
       "..                           ...                                 ...  \n",
       "70                           NaN  PATH (Port Authority Trans-Hudson)  \n",
       "71                           NaN  PATH (Port Authority Trans-Hudson)  \n",
       "72                           NaN  PATH (Port Authority Trans-Hudson)  \n",
       "73                           NaN                         Tren Urbano  \n",
       "74                           NaN                             Skyline  \n",
       "\n",
       "[75 rows x 6 columns]"
      ],
      "text/html": [
       "<div>\n",
       "<style scoped>\n",
       "    .dataframe tbody tr th:only-of-type {\n",
       "        vertical-align: middle;\n",
       "    }\n",
       "\n",
       "    .dataframe tbody tr th {\n",
       "        vertical-align: top;\n",
       "    }\n",
       "\n",
       "    .dataframe thead th {\n",
       "        text-align: right;\n",
       "    }\n",
       "</style>\n",
       "<table border=\"1\" class=\"dataframe\">\n",
       "  <thead>\n",
       "    <tr style=\"text-align: right;\">\n",
       "      <th></th>\n",
       "      <th>城市</th>\n",
       "      <th>线路</th>\n",
       "      <th>站点数</th>\n",
       "      <th>站点列表</th>\n",
       "      <th>地铁名称</th>\n",
       "      <th>Unnamed: 5</th>\n",
       "    </tr>\n",
       "  </thead>\n",
       "  <tbody>\n",
       "    <tr>\n",
       "      <th>0</th>\n",
       "      <td>纽约(New York City)</td>\n",
       "      <td>1 号线</td>\n",
       "      <td>36</td>\n",
       "      <td>Van Cortlandt Park-242 St, 238 St, 231 St, 225...</td>\n",
       "      <td>纽约市地铁 (New York City Subway)</td>\n",
       "      <td>NaN</td>\n",
       "    </tr>\n",
       "    <tr>\n",
       "      <th>1</th>\n",
       "      <td>纽约(New York City)</td>\n",
       "      <td>2 号线</td>\n",
       "      <td>49</td>\n",
       "      <td>Wakefield-241 St, Nereid Av, 233 St, 225 St, 2...</td>\n",
       "      <td>纽约市地铁 (New York City Subway)</td>\n",
       "      <td>NaN</td>\n",
       "    </tr>\n",
       "    <tr>\n",
       "      <th>2</th>\n",
       "      <td>纽约(New York City)</td>\n",
       "      <td>3 号线</td>\n",
       "      <td>34</td>\n",
       "      <td>Harlem-148 St, 145 St, 135 St, 125 St, 116 St,...</td>\n",
       "      <td>纽约市地铁 (New York City Subway)</td>\n",
       "      <td>NaN</td>\n",
       "    </tr>\n",
       "    <tr>\n",
       "      <th>3</th>\n",
       "      <td>纽约(New York City)</td>\n",
       "      <td>4 号线</td>\n",
       "      <td>54</td>\n",
       "      <td>Woodlawn, Mosholu Pkwy, Bedford Park Blvd-Lehm...</td>\n",
       "      <td>纽约市地铁 (New York City Subway)</td>\n",
       "      <td>NaN</td>\n",
       "    </tr>\n",
       "    <tr>\n",
       "      <th>4</th>\n",
       "      <td>纽约(New York City)</td>\n",
       "      <td>5 号线</td>\n",
       "      <td>36</td>\n",
       "      <td>Eastchester-Dyre Av, Baychester Av, Gun Hill R...</td>\n",
       "      <td>纽约市地铁 (New York City Subway)</td>\n",
       "      <td>NaN</td>\n",
       "    </tr>\n",
       "    <tr>\n",
       "      <th>...</th>\n",
       "      <td>...</td>\n",
       "      <td>...</td>\n",
       "      <td>...</td>\n",
       "      <td>...</td>\n",
       "      <td>...</td>\n",
       "      <td>...</td>\n",
       "    </tr>\n",
       "    <tr>\n",
       "      <th>70</th>\n",
       "      <td>新泽西/纽约</td>\n",
       "      <td>Hoboken–World Trade Center</td>\n",
       "      <td>5</td>\n",
       "      <td>Hoboken Terminal, Newport, Exchange Place, Gro...</td>\n",
       "      <td>NaN</td>\n",
       "      <td>PATH (Port Authority Trans-Hudson)</td>\n",
       "    </tr>\n",
       "    <tr>\n",
       "      <th>71</th>\n",
       "      <td>新泽西/纽约</td>\n",
       "      <td>Hoboken–33rd Street</td>\n",
       "      <td>6</td>\n",
       "      <td>Hoboken Terminal, Newport, Christopher Street,...</td>\n",
       "      <td>NaN</td>\n",
       "      <td>PATH (Port Authority Trans-Hudson)</td>\n",
       "    </tr>\n",
       "    <tr>\n",
       "      <th>72</th>\n",
       "      <td>新泽西/纽约</td>\n",
       "      <td>Journal Square–33rd Street</td>\n",
       "      <td>7</td>\n",
       "      <td>Journal Square, Grove Street, Newport, Christo...</td>\n",
       "      <td>NaN</td>\n",
       "      <td>PATH (Port Authority Trans-Hudson)</td>\n",
       "    </tr>\n",
       "    <tr>\n",
       "      <th>73</th>\n",
       "      <td>圣胡安 (San Juan, Puerto Rico)</td>\n",
       "      <td>单线</td>\n",
       "      <td>16</td>\n",
       "      <td>Sagrado Corazón, Hato Rey, Roosevelt, Domenech...</td>\n",
       "      <td>NaN</td>\n",
       "      <td>Tren Urbano</td>\n",
       "    </tr>\n",
       "    <tr>\n",
       "      <th>74</th>\n",
       "      <td>檀香山 (Honolulu)</td>\n",
       "      <td>单线 (Phase 1 &amp; 2)</td>\n",
       "      <td>19 (已开通及规划)</td>\n",
       "      <td>Kualakaʻi (East Kapolei), Keoneʻae (UH West Oʻ...</td>\n",
       "      <td>NaN</td>\n",
       "      <td>Skyline</td>\n",
       "    </tr>\n",
       "  </tbody>\n",
       "</table>\n",
       "<p>75 rows × 6 columns</p>\n",
       "</div>"
      ]
     },
     "execution_count": 4,
     "metadata": {},
     "output_type": "execute_result"
    }
   ],
   "execution_count": 4
  },
  {
   "metadata": {
    "ExecuteTime": {
     "end_time": "2025-03-27T01:32:39.083635Z",
     "start_time": "2025-03-27T01:32:39.070022Z"
    }
   },
   "cell_type": "code",
   "source": [
    "dict1 = {'Name': 'nowcoder', 'num':{'first': '99', 'second': '88'}, 'age': '15'}\n",
    "print(dict1.get('first'))"
   ],
   "id": "685e20f0a6f0e12b",
   "outputs": [
    {
     "name": "stdout",
     "output_type": "stream",
     "text": [
      "None\n"
     ]
    }
   ],
   "execution_count": 17
  },
  {
   "metadata": {
    "ExecuteTime": {
     "end_time": "2025-03-26T09:29:45.586779Z",
     "start_time": "2025-03-26T09:29:45.577572Z"
    }
   },
   "cell_type": "code",
   "source": [
    "df['起始站'] = df['站点列表'].apply(lambda x: x.split(',')[0])\n",
    "df['终点站'] = df['站点列表'].apply(lambda x: x.split(',')[-1])"
   ],
   "id": "d625f842291e37cc",
   "outputs": [],
   "execution_count": 8
  },
  {
   "metadata": {
    "ExecuteTime": {
     "end_time": "2025-03-26T09:32:49.855971Z",
     "start_time": "2025-03-26T09:32:49.851177Z"
    }
   },
   "cell_type": "code",
   "source": "",
   "id": "22eb037d51f2994a",
   "outputs": [],
   "execution_count": 12
  },
  {
   "metadata": {
    "ExecuteTime": {
     "end_time": "2025-03-26T09:31:22.674290Z",
     "start_time": "2025-03-26T09:31:22.666551Z"
    }
   },
   "cell_type": "code",
   "source": [
    "# 去除开头空格\n",
    "df['终点站']=df['终点站'].apply(lambda x: x.strip())"
   ],
   "id": "107b3a8a7fe2994f",
   "outputs": [],
   "execution_count": 11
  },
  {
   "metadata": {
    "ExecuteTime": {
     "end_time": "2025-03-26T09:31:44.486649Z",
     "start_time": "2025-03-26T09:31:44.377842Z"
    }
   },
   "cell_type": "code",
   "source": "df.to_excel('../data_source/地铁站.xlsx', index=False)",
   "id": "27dde868f24f0297",
   "outputs": [],
   "execution_count": 12
  },
  {
   "metadata": {
    "ExecuteTime": {
     "end_time": "2025-04-01T01:58:41.043967Z",
     "start_time": "2025-04-01T01:58:41.037865Z"
    }
   },
   "cell_type": "code",
   "source": "import uuid\n",
   "id": "6eb4b26e7a6f44c1",
   "outputs": [],
   "execution_count": 2
  },
  {
   "metadata": {},
   "cell_type": "code",
   "outputs": [],
   "execution_count": null,
   "source": "",
   "id": "3a479eea45e7c126"
  },
  {
   "metadata": {
    "ExecuteTime": {
     "end_time": "2025-04-01T01:59:10.598189Z",
     "start_time": "2025-04-01T01:59:10.591424Z"
    }
   },
   "cell_type": "code",
   "source": "print(type(uuid.uuid4()))",
   "id": "1ae668e9379258dc",
   "outputs": [
    {
     "name": "stdout",
     "output_type": "stream",
     "text": [
      "<class 'uuid.UUID'>\n"
     ]
    }
   ],
   "execution_count": 5
  },
  {
   "metadata": {},
   "cell_type": "code",
   "outputs": [],
   "execution_count": null,
   "source": "",
   "id": "f54f084d24f51ad4"
  }
 ],
 "metadata": {
  "kernelspec": {
   "display_name": "Python 3",
   "language": "python",
   "name": "python3"
  },
  "language_info": {
   "codemirror_mode": {
    "name": "ipython",
    "version": 2
   },
   "file_extension": ".py",
   "mimetype": "text/x-python",
   "name": "python",
   "nbconvert_exporter": "python",
   "pygments_lexer": "ipython2",
   "version": "2.7.6"
  }
 },
 "nbformat": 4,
 "nbformat_minor": 5
}
